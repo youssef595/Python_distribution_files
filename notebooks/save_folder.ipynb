{
 "cells": [
  {
   "cell_type": "code",
   "execution_count": 1,
   "metadata": {},
   "outputs": [],
   "source": [
    "import os\n",
    "import datetime"
   ]
  },
  {
   "cell_type": "code",
   "execution_count": null,
   "metadata": {},
   "outputs": [],
   "source": [
    "# i have a problem with ipynb module\n",
    "from ipynb.fs.full.get_date import *"
   ]
  },
  {
   "cell_type": "code",
   "execution_count": null,
   "metadata": {},
   "outputs": [],
   "source": [
    "# Get today's date as a string in the format \"YYYY-MM-DD\"\n",
    "today_date = datetime.date.today().strftime('%Y-%m-%d')\n",
    "\n",
    "# Create a path for the new folder\n",
    "new_folder_path = os.path.join('data', today_date)\n",
    "\n",
    "# Create the new folder if it doesn't exist\n",
    "if not os.path.exists(new_folder_path):\n",
    "    os.makedirs(new_folder_path)"
   ]
  }
 ],
 "metadata": {
  "kernelspec": {
   "display_name": "base",
   "language": "python",
   "name": "python3"
  },
  "language_info": {
   "codemirror_mode": {
    "name": "ipython",
    "version": 3
   },
   "file_extension": ".py",
   "mimetype": "text/x-python",
   "name": "python",
   "nbconvert_exporter": "python",
   "pygments_lexer": "ipython3",
   "version": "3.10.9"
  },
  "orig_nbformat": 4
 },
 "nbformat": 4,
 "nbformat_minor": 2
}
